{
 "cells": [
  {
   "cell_type": "code",
   "execution_count": null,
   "id": "43309ab6",
   "metadata": {},
   "outputs": [],
   "source": [
    "from evaluate_cashierdata import test_samples\n",
    "test_samples(\"timeGAN_shift1\", print_data=True)"
   ]
  }
 ],
 "metadata": {
  "kernelspec": {
   "display_name": "Python 3 (ipykernel)",
   "language": "python",
   "name": "python3"
  },
  "language_info": {
   "codemirror_mode": {
    "name": "ipython",
    "version": 3
   },
   "file_extension": ".py",
   "mimetype": "text/x-python",
   "name": "python",
   "nbconvert_exporter": "python",
   "pygments_lexer": "ipython3",
   "version": "3.8.10"
  }
 },
 "nbformat": 4,
 "nbformat_minor": 5
}
