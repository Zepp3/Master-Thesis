{
 "cells": [
  {
   "cell_type": "code",
   "execution_count": null,
   "id": "f9e68e81",
   "metadata": {},
   "outputs": [],
   "source": [
    "from evaluate_schachtschneider import test_samples\n",
    "test_samples(\"CTGAN_schachtschneider_noshift\", print_data=True)"
   ]
  },
  {
   "cell_type": "code",
   "execution_count": null,
   "id": "ec69daa0",
   "metadata": {
    "scrolled": false
   },
   "outputs": [],
   "source": []
  },
  {
   "cell_type": "code",
   "execution_count": null,
   "id": "242e4d4c",
   "metadata": {},
   "outputs": [],
   "source": []
  }
 ],
 "metadata": {
  "kernelspec": {
   "display_name": "Python 3 (ipykernel)",
   "language": "python",
   "name": "python3"
  },
  "language_info": {
   "codemirror_mode": {
    "name": "ipython",
    "version": 3
   },
   "file_extension": ".py",
   "mimetype": "text/x-python",
   "name": "python",
   "nbconvert_exporter": "python",
   "pygments_lexer": "ipython3",
   "version": "3.8.10"
  }
 },
 "nbformat": 4,
 "nbformat_minor": 5
}
